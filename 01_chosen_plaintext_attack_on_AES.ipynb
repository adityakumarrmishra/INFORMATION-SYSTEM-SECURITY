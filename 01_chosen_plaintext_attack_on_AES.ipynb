{
  "nbformat": 4,
  "nbformat_minor": 0,
  "metadata": {
    "colab": {
      "provenance": [],
      "authorship_tag": "ABX9TyO/JlhOokMhpGSlen8Kyo0B",
      "include_colab_link": true
    },
    "kernelspec": {
      "name": "python3",
      "display_name": "Python 3"
    },
    "language_info": {
      "name": "python"
    }
  },
  "cells": [
    {
      "cell_type": "markdown",
      "metadata": {
        "id": "view-in-github",
        "colab_type": "text"
      },
      "source": [
        "<a href=\"https://colab.research.google.com/github/adityakumarrmishra/INFORMATION-SYSTEM-SECURITY/blob/main/01_chosen_plaintext_attack_on_AES.ipynb\" target=\"_parent\"><img src=\"https://colab.research.google.com/assets/colab-badge.svg\" alt=\"Open In Colab\"/></a>"
      ]
    },
    {
      "cell_type": "code",
      "execution_count": 2,
      "metadata": {
        "id": "DVJeMMAwkjb3"
      },
      "outputs": [],
      "source": [
        "# XOR block encryption function\n",
        "def xor_encrypt_block(block, key):\n",
        "    return ''.join(chr(ord(block[i]) ^ ord(key[i])) for i in range(len(block)))\n",
        "\n",
        "# ECB-style encryption function\n",
        "def mock_ecb_encrypt(plaintext, key):\n",
        "    block_size = len(key)\n",
        "    ciphertext = []\n",
        "    for i in range(0, len(plaintext), block_size):\n",
        "        block = plaintext[i:i + block_size]\n",
        "        if len(block) < block_size:\n",
        "            block += ' ' * (block_size - len(block))\n",
        "        encrypted_block = xor_encrypt_block(block, key)\n",
        "        ciphertext.append(encrypted_block)\n",
        "    return ''.join(ciphertext)"
      ]
    },
    {
      "cell_type": "code",
      "source": [
        "\n",
        "key = \"12345678\"\n",
        "\n",
        "\n",
        "plaintext = \"AAAAAAAA\" + \"AAAAAAAA\"\n",
        "\n",
        "\n",
        "ciphertext = mock_ecb_encrypt(plaintext, key)\n",
        "\n",
        "print(\"Plaintext (in blocks):\")\n",
        "print([plaintext[i:i+8] for i in range(0, len(plaintext), 8)])\n",
        "\n",
        "print(\"\\nCiphertext (in blocks, raw):\")\n",
        "print([ciphertext[i:i+8] for i in range(0, len(ciphertext), 8)])\n",
        "\n",
        "print(\"\\nCiphertext (in hex):\")\n",
        "print([ciphertext[i:i+8].encode('utf-8').hex() for i in range(0, len(ciphertext), 8)])"
      ],
      "metadata": {
        "colab": {
          "base_uri": "https://localhost:8080/"
        },
        "id": "5f0D3iS_mG4P",
        "outputId": "d968ff36-ef78-4339-e5fa-012cd189e667"
      },
      "execution_count": 6,
      "outputs": [
        {
          "output_type": "stream",
          "name": "stdout",
          "text": [
            "Plaintext (in blocks):\n",
            "['AAAAAAAA', 'AAAAAAAA']\n",
            "\n",
            "Ciphertext (in blocks, raw):\n",
            "['psrutwvy', 'psrutwvy']\n",
            "\n",
            "Ciphertext (in hex):\n",
            "['7073727574777679', '7073727574777679']\n"
          ]
        }
      ]
    },
    {
      "cell_type": "code",
      "source": [],
      "metadata": {
        "id": "tWTbVsMZmc14"
      },
      "execution_count": null,
      "outputs": []
    }
  ]
}